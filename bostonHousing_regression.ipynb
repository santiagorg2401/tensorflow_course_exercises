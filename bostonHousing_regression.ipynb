{
  "nbformat": 4,
  "nbformat_minor": 0,
  "metadata": {
    "colab": {
      "name": "bostonHousing_regression.ipynb",
      "provenance": [],
      "collapsed_sections": [],
      "authorship_tag": "ABX9TyNXurWTABXRhB8ur3TjMUVT",
      "include_colab_link": true
    },
    "kernelspec": {
      "name": "python3",
      "display_name": "Python 3"
    },
    "language_info": {
      "name": "python"
    }
  },
  "cells": [
    {
      "cell_type": "markdown",
      "metadata": {
        "id": "view-in-github",
        "colab_type": "text"
      },
      "source": [
        "<a href=\"https://colab.research.google.com/github/santiagorg2401/tensorflow_course_exercises/blob/main/bostonHousing_regression.ipynb\" target=\"_parent\"><img src=\"https://colab.research.google.com/assets/colab-badge.svg\" alt=\"Open In Colab\"/></a>"
      ]
    },
    {
      "cell_type": "markdown",
      "source": [
        "# Boston Housing regression.\n",
        "Tensorflow course extra curriculum, excercise.\n",
        "https://github.com/mrdbourke/tensorflow-deep-learning/blob/main/README.md#-01-neural-network-regression-with-tensorflow-exercises"
      ],
      "metadata": {
        "id": "NiHT6h27Y17P"
      }
    },
    {
      "cell_type": "markdown",
      "source": [
        "## Import dataset."
      ],
      "metadata": {
        "id": "2uByZNORaI-2"
      }
    },
    {
      "cell_type": "code",
      "execution_count": 4,
      "metadata": {
        "id": "-7TCKP7NYBdQ"
      },
      "outputs": [],
      "source": [
        "import tensorflow as tf\n",
        "\n",
        "# Import boston_housing dataset.\n",
        "(X_train, y_train), (X_test, y_test) = tf.keras.datasets.boston_housing.load_data(\n",
        "    path='boston_housing.npz', test_split=0.2, seed=113\n",
        ")"
      ]
    },
    {
      "cell_type": "code",
      "source": [
        "# Check standard deviation from dataset labels.\n",
        "import numpy as np\n",
        "a = np.array(y_train)\n",
        "std_dev = a.std()\n",
        "mn = a.mean()\n",
        "\n",
        "print(std_dev, mn)"
      ],
      "metadata": {
        "colab": {
          "base_uri": "https://localhost:8080/"
        },
        "id": "JV1zlsO6bqzu",
        "outputId": "8da2a799-a601-4d94-e6cd-1cc04da8950c"
      },
      "execution_count": 13,
      "outputs": [
        {
          "output_type": "stream",
          "name": "stdout",
          "text": [
            "9.199035423364862 22.395049504950492\n"
          ]
        }
      ]
    },
    {
      "cell_type": "markdown",
      "source": [
        "## Build `model_0`"
      ],
      "metadata": {
        "id": "8JzFlkNiZH8s"
      }
    },
    {
      "cell_type": "code",
      "source": [
        "# Set random seed.\n",
        "tf.random.set_seed(42)\n",
        "\n",
        "# Build the model.\n",
        "model_0 = tf.keras.Sequential([\n",
        "        tf.keras.layers.Dense(1),\n",
        "        tf.keras.layers.Dense(10),\n",
        "        tf.keras.layers.Dense(1)\n",
        "])\n",
        "\n",
        "# Compile the model.\n",
        "model_0.compile(loss=tf.keras.losses.mae,\n",
        "                optimizer=tf.keras.optimizers.Adam(),\n",
        "                metrics=['mae'])\n",
        "\n",
        "# Fit the model.\n",
        "model_0.fit(X_train, y_train, epochs=100, verbose=0)"
      ],
      "metadata": {
        "colab": {
          "base_uri": "https://localhost:8080/"
        },
        "id": "FNQ9_-jLaAj2",
        "outputId": "7a206f5f-444d-4122-d1cd-7e0f31e146fc"
      },
      "execution_count": 6,
      "outputs": [
        {
          "output_type": "execute_result",
          "data": {
            "text/plain": [
              "<keras.callbacks.History at 0x7f978f7a7cd0>"
            ]
          },
          "metadata": {},
          "execution_count": 6
        }
      ]
    },
    {
      "cell_type": "code",
      "source": [
        "# Evaluate model_0.\n",
        "model_0_loss, model_0_mae = model_0.evaluate(X_test, y_test)"
      ],
      "metadata": {
        "colab": {
          "base_uri": "https://localhost:8080/"
        },
        "id": "2POBcl7ubRBL",
        "outputId": "4f546711-9a17-4b3e-b1ff-38c22a593b2d"
      },
      "execution_count": 7,
      "outputs": [
        {
          "output_type": "stream",
          "name": "stdout",
          "text": [
            "4/4 [==============================] - 0s 6ms/step - loss: 8.1926 - mae: 8.1926\n"
          ]
        }
      ]
    },
    {
      "cell_type": "markdown",
      "source": [
        "## Build `model_1` (with normalized data)"
      ],
      "metadata": {
        "id": "MTairRrrcZYD"
      }
    },
    {
      "cell_type": "code",
      "source": [
        "# Normalize data.\n",
        "from sklearn.compose import make_column_transformer\n",
        "from sklearn.preprocessing import MinMaxScaler, OneHotEncoder\n",
        "\n",
        "# Create column transformer.\n",
        "ct = make_column_transformer(\n",
        "    (MinMaxScaler(), [0, 1, 2, 4, 5, 6, 7, 9, 10, 11, 12]),\n",
        "    (OneHotEncoder(handle_unknown='ignore'), [3, 8])\n",
        ")\n",
        "\n",
        "# Fit column transformer.\n",
        "ct.fit(X_train)\n",
        "\n",
        "# Transform training and tesdt data with normalization and one hot encoding.\n",
        "X_train_normal = ct.transform(X_train)\n",
        "X_test_normal = ct.transform(X_test)"
      ],
      "metadata": {
        "id": "mltbdBowcb8i"
      },
      "execution_count": 18,
      "outputs": []
    },
    {
      "cell_type": "code",
      "source": [
        "X_train[0], X_train_normal[0], X_train.shape, X_train_normal.shape"
      ],
      "metadata": {
        "colab": {
          "base_uri": "https://localhost:8080/"
        },
        "id": "wDGJFs_DeZ0n",
        "outputId": "5ff66445-23b7-44e0-d572-c324988e3e8d"
      },
      "execution_count": 20,
      "outputs": [
        {
          "output_type": "execute_result",
          "data": {
            "text/plain": [
              "(array([  1.23247,   0.     ,   8.14   ,   0.     ,   0.538  ,   6.142  ,\n",
              "         91.7    ,   3.9769 ,   4.     , 307.     ,  21.     , 396.9    ,\n",
              "         18.72   ]),\n",
              " array([0.01378163, 0.        , 0.28152493, 0.31481481, 0.49980635,\n",
              "        0.91452111, 0.29719123, 0.22753346, 0.89361702, 1.        ,\n",
              "        0.46881898, 1.        , 0.        , 0.        , 0.        ,\n",
              "        0.        , 1.        , 0.        , 0.        , 0.        ,\n",
              "        0.        , 0.        ]),\n",
              " (404, 13),\n",
              " (404, 22))"
            ]
          },
          "metadata": {},
          "execution_count": 20
        }
      ]
    },
    {
      "cell_type": "code",
      "source": [
        "# Set random seed.\n",
        "tf.random.set_seed(42)\n",
        "\n",
        "# Build the model.\n",
        "model_1 = tf.keras.Sequential([\n",
        "          tf.keras.layers.Dense(1),\n",
        "          tf.keras.layers.Dense(10),\n",
        "          tf.keras.layers.Dense(1)\n",
        "])\n",
        "\n",
        "# Compile the model.\n",
        "model_1.compile(loss=tf.keras.losses.mae,\n",
        "                optimizer=tf.keras.optimizers.Adam(),\n",
        "                metrics=['mae'])\n",
        "\n",
        "# Fit the model.\n",
        "model_1.fit(X_train_normal, y_train, epochs=100, verbose=0)"
      ],
      "metadata": {
        "colab": {
          "base_uri": "https://localhost:8080/"
        },
        "id": "kyEuvY3rejUZ",
        "outputId": "80a14240-fee3-4281-bea4-85ef5c9af061"
      },
      "execution_count": 21,
      "outputs": [
        {
          "output_type": "execute_result",
          "data": {
            "text/plain": [
              "<keras.callbacks.History at 0x7f978b747a10>"
            ]
          },
          "metadata": {},
          "execution_count": 21
        }
      ]
    },
    {
      "cell_type": "code",
      "source": [
        "# Evaluate the model.\n",
        "model_1_loss, model_1_mae = model_1.evaluate(X_test_normal, y_test)"
      ],
      "metadata": {
        "colab": {
          "base_uri": "https://localhost:8080/"
        },
        "id": "2ucqDbkqe-oM",
        "outputId": "f1286a0a-e041-4e89-a976-89f05c57da36"
      },
      "execution_count": 22,
      "outputs": [
        {
          "output_type": "stream",
          "name": "stdout",
          "text": [
            "4/4 [==============================] - 0s 4ms/step - loss: 4.8578 - mae: 4.8578\n"
          ]
        }
      ]
    },
    {
      "cell_type": "markdown",
      "source": [
        "## Build `model_2`"
      ],
      "metadata": {
        "id": "W7MMHFMBfVSJ"
      }
    },
    {
      "cell_type": "code",
      "source": [
        "# Set random seed.\n",
        "tf.random.set_seed(42)\n",
        "\n",
        "# Build the model.\n",
        "model_2 = tf.keras.Sequential([\n",
        "          tf.keras.layers.Dense(22),\n",
        "          tf.keras.layers.Dense(100),\n",
        "          tf.keras.layers.Dense(10),\n",
        "          tf.keras.layers.Dense(1)\n",
        "])\n",
        "\n",
        "# Compile the model.\n",
        "model_2.compile(loss=tf.keras.losses.mae,\n",
        "                optimizer=tf.keras.optimizers.Adam(),\n",
        "                metrics=['mae'])\n",
        "\n",
        "# Fit the model.\n",
        "model_2.fit(X_train_normal, y_train, epochs = 200, verbose=0)"
      ],
      "metadata": {
        "colab": {
          "base_uri": "https://localhost:8080/"
        },
        "id": "-Tlg2HhyfYVY",
        "outputId": "3069c793-8b62-45d2-87e0-1156e98444b6"
      },
      "execution_count": 23,
      "outputs": [
        {
          "output_type": "execute_result",
          "data": {
            "text/plain": [
              "<keras.callbacks.History at 0x7f978b60a190>"
            ]
          },
          "metadata": {},
          "execution_count": 23
        }
      ]
    },
    {
      "cell_type": "code",
      "source": [
        "# Evaluate the model.\n",
        "model_2_loss, model_2_mae = model_2.evaluate(X_test_normal, y_test)"
      ],
      "metadata": {
        "colab": {
          "base_uri": "https://localhost:8080/"
        },
        "id": "ODO5flznf_UZ",
        "outputId": "8a7f7c7d-6d3a-419d-e72d-d56e07112855"
      },
      "execution_count": 24,
      "outputs": [
        {
          "output_type": "stream",
          "name": "stdout",
          "text": [
            "4/4 [==============================] - 0s 5ms/step - loss: 3.0478 - mae: 3.0478\n"
          ]
        }
      ]
    },
    {
      "cell_type": "markdown",
      "source": [
        "## Build `model_3`"
      ],
      "metadata": {
        "id": "PAkXAXCOgVeV"
      }
    },
    {
      "cell_type": "code",
      "source": [
        "# Set random seed.\n",
        "tf.random.set_seed(42)\n",
        "\n",
        "# Build the model.\n",
        "model_3 = tf.keras.Sequential([\n",
        "          tf.keras.layers.Dense(22, activation='sigmoid'),\n",
        "          tf.keras.layers.Dense(100, activation='sigmoid'),\n",
        "          tf.keras.layers.Dense(10, activation='sigmoid'),\n",
        "          tf.keras.layers.Dense(1, activation='sigmoid')\n",
        "])\n",
        "\n",
        "# Compile the model.\n",
        "model_3.compile(loss=tf.keras.losses.mae,\n",
        "                optimizer=tf.keras.optimizers.Adam(),\n",
        "                metrics=['mae'])\n",
        "\n",
        "# Fit the model.\n",
        "model_3.fit(X_train_normal, y_train, epochs=200, verbose=0)"
      ],
      "metadata": {
        "colab": {
          "base_uri": "https://localhost:8080/"
        },
        "id": "X0pi4nAigYIi",
        "outputId": "76664512-e2b4-4dd4-f8e2-cd136ae86323"
      },
      "execution_count": 26,
      "outputs": [
        {
          "output_type": "execute_result",
          "data": {
            "text/plain": [
              "<keras.callbacks.History at 0x7f978b4f0250>"
            ]
          },
          "metadata": {},
          "execution_count": 26
        }
      ]
    },
    {
      "cell_type": "code",
      "source": [
        "# Evaluate the model.\n",
        "model_3_loss, model_3_mae = model_3.evaluate(X_test_normal, y_test)"
      ],
      "metadata": {
        "colab": {
          "base_uri": "https://localhost:8080/"
        },
        "id": "sESi0U6Ihg5r",
        "outputId": "6d40a84f-fd15-4696-ecab-b4bf213232af"
      },
      "execution_count": 27,
      "outputs": [
        {
          "output_type": "stream",
          "name": "stdout",
          "text": [
            "4/4 [==============================] - 0s 4ms/step - loss: 22.0801 - mae: 22.0801\n"
          ]
        }
      ]
    },
    {
      "cell_type": "markdown",
      "source": [
        "## Compare the models."
      ],
      "metadata": {
        "id": "a6htIEN1hwi8"
      }
    },
    {
      "cell_type": "code",
      "source": [
        "model_results = [[\"model_0\", model_0_mae],\n",
        "                 [\"model_1\", model_1_mae],\n",
        "                 [\"model_2\", model_2_mae],\n",
        "                 [\"model_3\", model_3_mae]]\n",
        "\n",
        "import pandas as pd\n",
        "all_results = pd.DataFrame(model_results, columns=[\"model\", \"mae\"])\n",
        "all_results"
      ],
      "metadata": {
        "colab": {
          "base_uri": "https://localhost:8080/",
          "height": 175
        },
        "id": "FgHQ7lkzh_DB",
        "outputId": "988d3868-5f9a-4979-ae9e-f7f4e09f7a3d"
      },
      "execution_count": 28,
      "outputs": [
        {
          "output_type": "execute_result",
          "data": {
            "text/plain": [
              "     model        mae\n",
              "0  model_0   8.192560\n",
              "1  model_1   4.857812\n",
              "2  model_2   3.047764\n",
              "3  model_3  22.080078"
            ],
            "text/html": [
              "\n",
              "  <div id=\"df-33a21d7d-c6b8-475f-ae9f-debbe90ef731\">\n",
              "    <div class=\"colab-df-container\">\n",
              "      <div>\n",
              "<style scoped>\n",
              "    .dataframe tbody tr th:only-of-type {\n",
              "        vertical-align: middle;\n",
              "    }\n",
              "\n",
              "    .dataframe tbody tr th {\n",
              "        vertical-align: top;\n",
              "    }\n",
              "\n",
              "    .dataframe thead th {\n",
              "        text-align: right;\n",
              "    }\n",
              "</style>\n",
              "<table border=\"1\" class=\"dataframe\">\n",
              "  <thead>\n",
              "    <tr style=\"text-align: right;\">\n",
              "      <th></th>\n",
              "      <th>model</th>\n",
              "      <th>mae</th>\n",
              "    </tr>\n",
              "  </thead>\n",
              "  <tbody>\n",
              "    <tr>\n",
              "      <th>0</th>\n",
              "      <td>model_0</td>\n",
              "      <td>8.192560</td>\n",
              "    </tr>\n",
              "    <tr>\n",
              "      <th>1</th>\n",
              "      <td>model_1</td>\n",
              "      <td>4.857812</td>\n",
              "    </tr>\n",
              "    <tr>\n",
              "      <th>2</th>\n",
              "      <td>model_2</td>\n",
              "      <td>3.047764</td>\n",
              "    </tr>\n",
              "    <tr>\n",
              "      <th>3</th>\n",
              "      <td>model_3</td>\n",
              "      <td>22.080078</td>\n",
              "    </tr>\n",
              "  </tbody>\n",
              "</table>\n",
              "</div>\n",
              "      <button class=\"colab-df-convert\" onclick=\"convertToInteractive('df-33a21d7d-c6b8-475f-ae9f-debbe90ef731')\"\n",
              "              title=\"Convert this dataframe to an interactive table.\"\n",
              "              style=\"display:none;\">\n",
              "        \n",
              "  <svg xmlns=\"http://www.w3.org/2000/svg\" height=\"24px\"viewBox=\"0 0 24 24\"\n",
              "       width=\"24px\">\n",
              "    <path d=\"M0 0h24v24H0V0z\" fill=\"none\"/>\n",
              "    <path d=\"M18.56 5.44l.94 2.06.94-2.06 2.06-.94-2.06-.94-.94-2.06-.94 2.06-2.06.94zm-11 1L8.5 8.5l.94-2.06 2.06-.94-2.06-.94L8.5 2.5l-.94 2.06-2.06.94zm10 10l.94 2.06.94-2.06 2.06-.94-2.06-.94-.94-2.06-.94 2.06-2.06.94z\"/><path d=\"M17.41 7.96l-1.37-1.37c-.4-.4-.92-.59-1.43-.59-.52 0-1.04.2-1.43.59L10.3 9.45l-7.72 7.72c-.78.78-.78 2.05 0 2.83L4 21.41c.39.39.9.59 1.41.59.51 0 1.02-.2 1.41-.59l7.78-7.78 2.81-2.81c.8-.78.8-2.07 0-2.86zM5.41 20L4 18.59l7.72-7.72 1.47 1.35L5.41 20z\"/>\n",
              "  </svg>\n",
              "      </button>\n",
              "      \n",
              "  <style>\n",
              "    .colab-df-container {\n",
              "      display:flex;\n",
              "      flex-wrap:wrap;\n",
              "      gap: 12px;\n",
              "    }\n",
              "\n",
              "    .colab-df-convert {\n",
              "      background-color: #E8F0FE;\n",
              "      border: none;\n",
              "      border-radius: 50%;\n",
              "      cursor: pointer;\n",
              "      display: none;\n",
              "      fill: #1967D2;\n",
              "      height: 32px;\n",
              "      padding: 0 0 0 0;\n",
              "      width: 32px;\n",
              "    }\n",
              "\n",
              "    .colab-df-convert:hover {\n",
              "      background-color: #E2EBFA;\n",
              "      box-shadow: 0px 1px 2px rgba(60, 64, 67, 0.3), 0px 1px 3px 1px rgba(60, 64, 67, 0.15);\n",
              "      fill: #174EA6;\n",
              "    }\n",
              "\n",
              "    [theme=dark] .colab-df-convert {\n",
              "      background-color: #3B4455;\n",
              "      fill: #D2E3FC;\n",
              "    }\n",
              "\n",
              "    [theme=dark] .colab-df-convert:hover {\n",
              "      background-color: #434B5C;\n",
              "      box-shadow: 0px 1px 3px 1px rgba(0, 0, 0, 0.15);\n",
              "      filter: drop-shadow(0px 1px 2px rgba(0, 0, 0, 0.3));\n",
              "      fill: #FFFFFF;\n",
              "    }\n",
              "  </style>\n",
              "\n",
              "      <script>\n",
              "        const buttonEl =\n",
              "          document.querySelector('#df-33a21d7d-c6b8-475f-ae9f-debbe90ef731 button.colab-df-convert');\n",
              "        buttonEl.style.display =\n",
              "          google.colab.kernel.accessAllowed ? 'block' : 'none';\n",
              "\n",
              "        async function convertToInteractive(key) {\n",
              "          const element = document.querySelector('#df-33a21d7d-c6b8-475f-ae9f-debbe90ef731');\n",
              "          const dataTable =\n",
              "            await google.colab.kernel.invokeFunction('convertToInteractive',\n",
              "                                                     [key], {});\n",
              "          if (!dataTable) return;\n",
              "\n",
              "          const docLinkHtml = 'Like what you see? Visit the ' +\n",
              "            '<a target=\"_blank\" href=https://colab.research.google.com/notebooks/data_table.ipynb>data table notebook</a>'\n",
              "            + ' to learn more about interactive tables.';\n",
              "          element.innerHTML = '';\n",
              "          dataTable['output_type'] = 'display_data';\n",
              "          await google.colab.output.renderOutput(dataTable, element);\n",
              "          const docLink = document.createElement('div');\n",
              "          docLink.innerHTML = docLinkHtml;\n",
              "          element.appendChild(docLink);\n",
              "        }\n",
              "      </script>\n",
              "    </div>\n",
              "  </div>\n",
              "  "
            ]
          },
          "metadata": {},
          "execution_count": 28
        }
      ]
    }
  ]
}